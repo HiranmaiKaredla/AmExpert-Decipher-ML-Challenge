{
  "nbformat": 4,
  "nbformat_minor": 0,
  "metadata": {
    "colab": {
      "name": "AmExpert_challenge(4).ipynb",
      "version": "0.3.2",
      "provenance": [],
      "collapsed_sections": []
    },
    "kernelspec": {
      "name": "python3",
      "display_name": "Python 3"
    },
    "accelerator": "GPU"
  },
  "cells": [
    {
      "cell_type": "code",
      "metadata": {
        "id": "Or0EubuDSQTG",
        "colab_type": "code",
        "outputId": "76b84cfb-6e79-4a25-dba9-7e43f107a67d",
        "colab": {
          "base_uri": "https://localhost:8080/",
          "height": 121
        }
      },
      "source": [
        "!unzip /content/train_bFQbE3f.zip"
      ],
      "execution_count": 0,
      "outputs": [
        {
          "output_type": "stream",
          "text": [
            "Archive:  /content/train_bFQbE3f.zip\n",
            "  inflating: Data_Dictionary.xlsx    \n",
            "   creating: __MACOSX/\n",
            "  inflating: __MACOSX/._Data_Dictionary.xlsx  \n",
            "  inflating: train.csv               \n",
            "  inflating: __MACOSX/._train.csv    \n"
          ],
          "name": "stdout"
        }
      ]
    },
    {
      "cell_type": "code",
      "metadata": {
        "id": "3Afbk0l1SoGH",
        "colab_type": "code",
        "colab": {}
      },
      "source": [
        "import numpy as np\n",
        "import pandas as pd\n",
        "import matplotlib.pyplot as plt  \n",
        "import seaborn as sns\n",
        "from scipy import stats\n",
        "from scipy.stats import norm, skew \n",
        "from sklearn.preprocessing import StandardScaler\n"
      ],
      "execution_count": 0,
      "outputs": []
    },
    {
      "cell_type": "code",
      "metadata": {
        "id": "gp8fe61PTjqo",
        "colab_type": "code",
        "colab": {}
      },
      "source": [
        "#reading csv files and loading into pandas dataframe\n",
        "train=pd.read_csv(\"train.csv\")\n",
        "test_or=pd.read_csv('test_9K3DBWQ.csv')"
      ],
      "execution_count": 0,
      "outputs": []
    },
    {
      "cell_type": "code",
      "metadata": {
        "id": "aDSWcYkBT2J4",
        "colab_type": "code",
        "outputId": "5696c6cf-b074-4592-ecc9-9e42c8b3c813",
        "colab": {
          "base_uri": "https://localhost:8080/",
          "height": 34
        }
      },
      "source": [
        "train.shape"
      ],
      "execution_count": 0,
      "outputs": [
        {
          "output_type": "execute_result",
          "data": {
            "text/plain": [
              "(32820, 44)"
            ]
          },
          "metadata": {
            "tags": []
          },
          "execution_count": 49
        }
      ]
    },
    {
      "cell_type": "code",
      "metadata": {
        "id": "uKzc9hkxT5Sd",
        "colab_type": "code",
        "outputId": "3559b896-5f0f-41ee-a448-95891bd9fc41",
        "colab": {
          "base_uri": "https://localhost:8080/",
          "height": 226
        }
      },
      "source": [
        "train.head()"
      ],
      "execution_count": 0,
      "outputs": [
        {
          "output_type": "execute_result",
          "data": {
            "text/html": [
              "<div>\n",
              "<style scoped>\n",
              "    .dataframe tbody tr th:only-of-type {\n",
              "        vertical-align: middle;\n",
              "    }\n",
              "\n",
              "    .dataframe tbody tr th {\n",
              "        vertical-align: top;\n",
              "    }\n",
              "\n",
              "    .dataframe thead th {\n",
              "        text-align: right;\n",
              "    }\n",
              "</style>\n",
              "<table border=\"1\" class=\"dataframe\">\n",
              "  <thead>\n",
              "    <tr style=\"text-align: right;\">\n",
              "      <th></th>\n",
              "      <th>id</th>\n",
              "      <th>account_type</th>\n",
              "      <th>gender</th>\n",
              "      <th>age</th>\n",
              "      <th>region_code</th>\n",
              "      <th>cc_cons_apr</th>\n",
              "      <th>dc_cons_apr</th>\n",
              "      <th>cc_cons_may</th>\n",
              "      <th>dc_cons_may</th>\n",
              "      <th>cc_cons_jun</th>\n",
              "      <th>dc_cons_jun</th>\n",
              "      <th>cc_count_apr</th>\n",
              "      <th>cc_count_may</th>\n",
              "      <th>cc_count_jun</th>\n",
              "      <th>dc_count_apr</th>\n",
              "      <th>dc_count_may</th>\n",
              "      <th>dc_count_jun</th>\n",
              "      <th>card_lim</th>\n",
              "      <th>personal_loan_active</th>\n",
              "      <th>vehicle_loan_active</th>\n",
              "      <th>personal_loan_closed</th>\n",
              "      <th>vehicle_loan_closed</th>\n",
              "      <th>investment_1</th>\n",
              "      <th>investment_2</th>\n",
              "      <th>investment_3</th>\n",
              "      <th>investment_4</th>\n",
              "      <th>debit_amount_apr</th>\n",
              "      <th>credit_amount_apr</th>\n",
              "      <th>debit_count_apr</th>\n",
              "      <th>credit_count_apr</th>\n",
              "      <th>max_credit_amount_apr</th>\n",
              "      <th>debit_amount_may</th>\n",
              "      <th>credit_amount_may</th>\n",
              "      <th>credit_count_may</th>\n",
              "      <th>debit_count_may</th>\n",
              "      <th>max_credit_amount_may</th>\n",
              "      <th>debit_amount_jun</th>\n",
              "      <th>credit_amount_jun</th>\n",
              "      <th>credit_count_jun</th>\n",
              "      <th>debit_count_jun</th>\n",
              "      <th>max_credit_amount_jun</th>\n",
              "      <th>loan_enq</th>\n",
              "      <th>emi_active</th>\n",
              "      <th>cc_cons</th>\n",
              "    </tr>\n",
              "  </thead>\n",
              "  <tbody>\n",
              "    <tr>\n",
              "      <th>0</th>\n",
              "      <td>23334</td>\n",
              "      <td>saving</td>\n",
              "      <td>M</td>\n",
              "      <td>63</td>\n",
              "      <td>305</td>\n",
              "      <td>7695.00</td>\n",
              "      <td>NaN</td>\n",
              "      <td>479.00</td>\n",
              "      <td>NaN</td>\n",
              "      <td>622.0</td>\n",
              "      <td>NaN</td>\n",
              "      <td>2.0</td>\n",
              "      <td>1.0</td>\n",
              "      <td>3.0</td>\n",
              "      <td>NaN</td>\n",
              "      <td>NaN</td>\n",
              "      <td>NaN</td>\n",
              "      <td>150000.0</td>\n",
              "      <td>NaN</td>\n",
              "      <td>NaN</td>\n",
              "      <td>NaN</td>\n",
              "      <td>NaN</td>\n",
              "      <td>NaN</td>\n",
              "      <td>118845.2</td>\n",
              "      <td>50000.0</td>\n",
              "      <td>NaN</td>\n",
              "      <td>51205.47</td>\n",
              "      <td>50259.0</td>\n",
              "      <td>3.0</td>\n",
              "      <td>1.0</td>\n",
              "      <td>50000.0</td>\n",
              "      <td>24740.22</td>\n",
              "      <td>114252.0</td>\n",
              "      <td>3.0</td>\n",
              "      <td>2.0</td>\n",
              "      <td>45000.0</td>\n",
              "      <td>20215.85</td>\n",
              "      <td>1279.37</td>\n",
              "      <td>7.0</td>\n",
              "      <td>3.0</td>\n",
              "      <td>470.0</td>\n",
              "      <td>NaN</td>\n",
              "      <td>0.00</td>\n",
              "      <td>435</td>\n",
              "    </tr>\n",
              "    <tr>\n",
              "      <th>1</th>\n",
              "      <td>20329</td>\n",
              "      <td>current</td>\n",
              "      <td>M</td>\n",
              "      <td>33</td>\n",
              "      <td>326</td>\n",
              "      <td>52702.00</td>\n",
              "      <td>988.72</td>\n",
              "      <td>29873.00</td>\n",
              "      <td>NaN</td>\n",
              "      <td>1087.0</td>\n",
              "      <td>2806.24</td>\n",
              "      <td>11.0</td>\n",
              "      <td>14.0</td>\n",
              "      <td>11.0</td>\n",
              "      <td>1.0</td>\n",
              "      <td>NaN</td>\n",
              "      <td>6.0</td>\n",
              "      <td>176000.0</td>\n",
              "      <td>NaN</td>\n",
              "      <td>NaN</td>\n",
              "      <td>1.0</td>\n",
              "      <td>NaN</td>\n",
              "      <td>NaN</td>\n",
              "      <td>NaN</td>\n",
              "      <td>NaN</td>\n",
              "      <td>NaN</td>\n",
              "      <td>159050.76</td>\n",
              "      <td>169812.0</td>\n",
              "      <td>20.0</td>\n",
              "      <td>9.0</td>\n",
              "      <td>70000.0</td>\n",
              "      <td>103102.85</td>\n",
              "      <td>174606.0</td>\n",
              "      <td>6.0</td>\n",
              "      <td>10.0</td>\n",
              "      <td>150000.0</td>\n",
              "      <td>122037.66</td>\n",
              "      <td>55390.00</td>\n",
              "      <td>8.0</td>\n",
              "      <td>19.0</td>\n",
              "      <td>27000.0</td>\n",
              "      <td>NaN</td>\n",
              "      <td>4963.33</td>\n",
              "      <td>1921</td>\n",
              "    </tr>\n",
              "    <tr>\n",
              "      <th>2</th>\n",
              "      <td>17679</td>\n",
              "      <td>current</td>\n",
              "      <td>M</td>\n",
              "      <td>44</td>\n",
              "      <td>264</td>\n",
              "      <td>10800.49</td>\n",
              "      <td>3215.52</td>\n",
              "      <td>21659.64</td>\n",
              "      <td>1607.0</td>\n",
              "      <td>1168.0</td>\n",
              "      <td>355.00</td>\n",
              "      <td>6.0</td>\n",
              "      <td>9.0</td>\n",
              "      <td>6.0</td>\n",
              "      <td>3.0</td>\n",
              "      <td>2.0</td>\n",
              "      <td>14.0</td>\n",
              "      <td>65000.0</td>\n",
              "      <td>NaN</td>\n",
              "      <td>NaN</td>\n",
              "      <td>NaN</td>\n",
              "      <td>NaN</td>\n",
              "      <td>NaN</td>\n",
              "      <td>NaN</td>\n",
              "      <td>NaN</td>\n",
              "      <td>NaN</td>\n",
              "      <td>51484.55</td>\n",
              "      <td>38942.0</td>\n",
              "      <td>16.0</td>\n",
              "      <td>4.0</td>\n",
              "      <td>11700.0</td>\n",
              "      <td>15283.00</td>\n",
              "      <td>23051.0</td>\n",
              "      <td>2.0</td>\n",
              "      <td>7.0</td>\n",
              "      <td>13800.0</td>\n",
              "      <td>46827.00</td>\n",
              "      <td>29297.91</td>\n",
              "      <td>6.0</td>\n",
              "      <td>19.0</td>\n",
              "      <td>20800.0</td>\n",
              "      <td>NaN</td>\n",
              "      <td>0.00</td>\n",
              "      <td>1970</td>\n",
              "    </tr>\n",
              "    <tr>\n",
              "      <th>3</th>\n",
              "      <td>16428</td>\n",
              "      <td>saving</td>\n",
              "      <td>M</td>\n",
              "      <td>44</td>\n",
              "      <td>233</td>\n",
              "      <td>20936.00</td>\n",
              "      <td>NaN</td>\n",
              "      <td>2094.00</td>\n",
              "      <td>NaN</td>\n",
              "      <td>11778.5</td>\n",
              "      <td>NaN</td>\n",
              "      <td>9.0</td>\n",
              "      <td>6.0</td>\n",
              "      <td>6.0</td>\n",
              "      <td>NaN</td>\n",
              "      <td>NaN</td>\n",
              "      <td>NaN</td>\n",
              "      <td>600000.0</td>\n",
              "      <td>NaN</td>\n",
              "      <td>NaN</td>\n",
              "      <td>NaN</td>\n",
              "      <td>NaN</td>\n",
              "      <td>NaN</td>\n",
              "      <td>132442.0</td>\n",
              "      <td>NaN</td>\n",
              "      <td>NaN</td>\n",
              "      <td>1981.07</td>\n",
              "      <td>2294.0</td>\n",
              "      <td>2.0</td>\n",
              "      <td>1.0</td>\n",
              "      <td>2000.0</td>\n",
              "      <td>19361.24</td>\n",
              "      <td>19529.0</td>\n",
              "      <td>1.0</td>\n",
              "      <td>1.0</td>\n",
              "      <td>19300.0</td>\n",
              "      <td>5426.55</td>\n",
              "      <td>7544.00</td>\n",
              "      <td>3.0</td>\n",
              "      <td>1.0</td>\n",
              "      <td>5300.0</td>\n",
              "      <td>NaN</td>\n",
              "      <td>1238.18</td>\n",
              "      <td>21579</td>\n",
              "    </tr>\n",
              "    <tr>\n",
              "      <th>4</th>\n",
              "      <td>18721</td>\n",
              "      <td>saving</td>\n",
              "      <td>F</td>\n",
              "      <td>35</td>\n",
              "      <td>324</td>\n",
              "      <td>1183.83</td>\n",
              "      <td>NaN</td>\n",
              "      <td>3656.29</td>\n",
              "      <td>NaN</td>\n",
              "      <td>945.0</td>\n",
              "      <td>NaN</td>\n",
              "      <td>2.0</td>\n",
              "      <td>7.0</td>\n",
              "      <td>9.0</td>\n",
              "      <td>NaN</td>\n",
              "      <td>NaN</td>\n",
              "      <td>NaN</td>\n",
              "      <td>100000.0</td>\n",
              "      <td>NaN</td>\n",
              "      <td>NaN</td>\n",
              "      <td>NaN</td>\n",
              "      <td>NaN</td>\n",
              "      <td>NaN</td>\n",
              "      <td>NaN</td>\n",
              "      <td>NaN</td>\n",
              "      <td>NaN</td>\n",
              "      <td>6462.00</td>\n",
              "      <td>10271.0</td>\n",
              "      <td>6.0</td>\n",
              "      <td>1.0</td>\n",
              "      <td>10000.0</td>\n",
              "      <td>7461.00</td>\n",
              "      <td>3194.0</td>\n",
              "      <td>2.0</td>\n",
              "      <td>3.0</td>\n",
              "      <td>3000.0</td>\n",
              "      <td>26178.05</td>\n",
              "      <td>53483.00</td>\n",
              "      <td>4.0</td>\n",
              "      <td>4.0</td>\n",
              "      <td>45000.0</td>\n",
              "      <td>NaN</td>\n",
              "      <td>0.00</td>\n",
              "      <td>1814</td>\n",
              "    </tr>\n",
              "  </tbody>\n",
              "</table>\n",
              "</div>"
            ],
            "text/plain": [
              "      id account_type gender  ...  loan_enq  emi_active  cc_cons\n",
              "0  23334       saving      M  ...       NaN        0.00      435\n",
              "1  20329      current      M  ...       NaN     4963.33     1921\n",
              "2  17679      current      M  ...       NaN        0.00     1970\n",
              "3  16428       saving      M  ...       NaN     1238.18    21579\n",
              "4  18721       saving      F  ...       NaN        0.00     1814\n",
              "\n",
              "[5 rows x 44 columns]"
            ]
          },
          "metadata": {
            "tags": []
          },
          "execution_count": 4
        }
      ]
    },
    {
      "cell_type": "code",
      "metadata": {
        "id": "axs-0r6EUF3-",
        "colab_type": "code",
        "outputId": "43eac226-0bb0-4b80-b553-59746cf13599",
        "colab": {
          "base_uri": "https://localhost:8080/",
          "height": 868
        }
      },
      "source": [
        "train.info()"
      ],
      "execution_count": 0,
      "outputs": [
        {
          "output_type": "stream",
          "text": [
            "<class 'pandas.core.frame.DataFrame'>\n",
            "RangeIndex: 32820 entries, 0 to 32819\n",
            "Data columns (total 44 columns):\n",
            "id                       32820 non-null int64\n",
            "account_type             32820 non-null object\n",
            "gender                   32820 non-null object\n",
            "age                      32820 non-null int64\n",
            "region_code              32820 non-null int64\n",
            "cc_cons_apr              32820 non-null float64\n",
            "dc_cons_apr              13768 non-null float64\n",
            "cc_cons_may              32820 non-null float64\n",
            "dc_cons_may              15481 non-null float64\n",
            "cc_cons_jun              32820 non-null float64\n",
            "dc_cons_jun              11523 non-null float64\n",
            "cc_count_apr             30421 non-null float64\n",
            "cc_count_may             31667 non-null float64\n",
            "cc_count_jun             31230 non-null float64\n",
            "dc_count_apr             13768 non-null float64\n",
            "dc_count_may             15481 non-null float64\n",
            "dc_count_jun             17323 non-null float64\n",
            "card_lim                 32811 non-null float64\n",
            "personal_loan_active     2742 non-null float64\n",
            "vehicle_loan_active      846 non-null float64\n",
            "personal_loan_closed     2883 non-null float64\n",
            "vehicle_loan_closed      1625 non-null float64\n",
            "investment_1             1426 non-null float64\n",
            "investment_2             2338 non-null float64\n",
            "investment_3             1332 non-null float64\n",
            "investment_4             406 non-null float64\n",
            "debit_amount_apr         30930 non-null float64\n",
            "credit_amount_apr        29518 non-null float64\n",
            "debit_count_apr          31062 non-null float64\n",
            "credit_count_apr         31062 non-null float64\n",
            "max_credit_amount_apr    29518 non-null float64\n",
            "debit_amount_may         30519 non-null float64\n",
            "credit_amount_may        29415 non-null float64\n",
            "credit_count_may         30749 non-null float64\n",
            "debit_count_may          30749 non-null float64\n",
            "max_credit_amount_may    29415 non-null float64\n",
            "debit_amount_jun         30625 non-null float64\n",
            "credit_amount_jun        31277 non-null float64\n",
            "credit_count_jun         31292 non-null float64\n",
            "debit_count_jun          31292 non-null float64\n",
            "max_credit_amount_jun    31277 non-null float64\n",
            "loan_enq                 609 non-null object\n",
            "emi_active               32820 non-null float64\n",
            "cc_cons                  32820 non-null int64\n",
            "dtypes: float64(37), int64(4), object(3)\n",
            "memory usage: 11.0+ MB\n"
          ],
          "name": "stdout"
        }
      ]
    },
    {
      "cell_type": "code",
      "metadata": {
        "id": "aMfnIHwzUPJr",
        "colab_type": "code",
        "outputId": "ab1c81a3-6f4e-4b09-eb27-7592acd2ed05",
        "colab": {
          "base_uri": "https://localhost:8080/",
          "height": 799
        }
      },
      "source": [
        "train.isnull().sum()"
      ],
      "execution_count": 0,
      "outputs": [
        {
          "output_type": "execute_result",
          "data": {
            "text/plain": [
              "id                           0\n",
              "account_type                 0\n",
              "gender                       0\n",
              "age                          0\n",
              "region_code                  0\n",
              "cc_cons_apr                  0\n",
              "dc_cons_apr              19052\n",
              "cc_cons_may                  0\n",
              "dc_cons_may              17339\n",
              "cc_cons_jun                  0\n",
              "dc_cons_jun              21297\n",
              "cc_count_apr              2399\n",
              "cc_count_may              1153\n",
              "cc_count_jun              1590\n",
              "dc_count_apr             19052\n",
              "dc_count_may             17339\n",
              "dc_count_jun             15497\n",
              "card_lim                     9\n",
              "personal_loan_active     30078\n",
              "vehicle_loan_active      31974\n",
              "personal_loan_closed     29937\n",
              "vehicle_loan_closed      31195\n",
              "investment_1             31394\n",
              "investment_2             30482\n",
              "investment_3             31488\n",
              "investment_4             32414\n",
              "debit_amount_apr          1890\n",
              "credit_amount_apr         3302\n",
              "debit_count_apr           1758\n",
              "credit_count_apr          1758\n",
              "max_credit_amount_apr     3302\n",
              "debit_amount_may          2301\n",
              "credit_amount_may         3405\n",
              "credit_count_may          2071\n",
              "debit_count_may           2071\n",
              "max_credit_amount_may     3405\n",
              "debit_amount_jun          2195\n",
              "credit_amount_jun         1543\n",
              "credit_count_jun          1528\n",
              "debit_count_jun           1528\n",
              "max_credit_amount_jun     1543\n",
              "loan_enq                 32211\n",
              "emi_active                   0\n",
              "cc_cons                      0\n",
              "dtype: int64"
            ]
          },
          "metadata": {
            "tags": []
          },
          "execution_count": 8
        }
      ]
    },
    {
      "cell_type": "code",
      "metadata": {
        "id": "XelQF36GVLSe",
        "colab_type": "code",
        "outputId": "f78152f5-f524-4c5a-8e7a-964171ebfd9d",
        "colab": {
          "base_uri": "https://localhost:8080/",
          "height": 173
        }
      },
      "source": [
        "train['cc_cons'].describe()"
      ],
      "execution_count": 0,
      "outputs": [
        {
          "output_type": "execute_result",
          "data": {
            "text/plain": [
              "count     32820.000000\n",
              "mean       6824.631840\n",
              "std       12459.140593\n",
              "min           0.000000\n",
              "25%        1285.000000\n",
              "50%        3141.000000\n",
              "75%        7349.250000\n",
              "max      408630.000000\n",
              "Name: cc_cons, dtype: float64"
            ]
          },
          "metadata": {
            "tags": []
          },
          "execution_count": 10
        }
      ]
    },
    {
      "cell_type": "code",
      "metadata": {
        "id": "ea94gd-IVcEk",
        "colab_type": "code",
        "outputId": "75721f5c-ba0e-4ae2-96ad-cfbe6c7201c0",
        "colab": {
          "base_uri": "https://localhost:8080/",
          "height": 300
        }
      },
      "source": [
        "sns.distplot(train['cc_cons'],fit=norm)"
      ],
      "execution_count": 0,
      "outputs": [
        {
          "output_type": "execute_result",
          "data": {
            "text/plain": [
              "<matplotlib.axes._subplots.AxesSubplot at 0x7f1f0f204ba8>"
            ]
          },
          "metadata": {
            "tags": []
          },
          "execution_count": 4
        },
        {
          "output_type": "display_data",
          "data": {
            "image/png": "[encoded data removed]",
            "text/plain": [
              "<Figure size 432x288 with 1 Axes>"
            ]
          },
          "metadata": {
            "tags": []
          }
        }
      ]
    },
    {
      "cell_type": "code",
      "metadata": {
        "id": "enQsDjpdXWLs",
        "colab_type": "code",
        "outputId": "0834b8fe-79f6-49f3-840c-279bc80ad343",
        "colab": {
          "base_uri": "https://localhost:8080/",
          "height": 295
        }
      },
      "source": [
        "res = stats.probplot(train['cc_cons'], plot=plt)\n",
        "plt.show()"
      ],
      "execution_count": 0,
      "outputs": [
        {
          "output_type": "display_data",
          "data": {
            "image/png": "[encoded data removed]",
            "text/plain": [
              "<Figure size 432x288 with 1 Axes>"
            ]
          },
          "metadata": {
            "tags": []
          }
        }
      ]
    },
    {
      "cell_type": "code",
      "metadata": {
        "id": "3vhXNno0XnQD",
        "colab_type": "code",
        "colab": {}
      },
      "source": [
        "#normalizing target variable\n",
        "train['cc_cons']=np.log1p(train['cc_cons'])"
      ],
      "execution_count": 0,
      "outputs": []
    },
    {
      "cell_type": "code",
      "metadata": {
        "id": "I8LO3kAGX3ki",
        "colab_type": "code",
        "outputId": "64c569ac-38f5-400f-9cfc-f0720d9b7251",
        "colab": {
          "base_uri": "https://localhost:8080/",
          "height": 300
        }
      },
      "source": [
        "sns.distplot(train['cc_cons'],fit=norm)"
      ],
      "execution_count": 0,
      "outputs": [
        {
          "output_type": "execute_result",
          "data": {
            "text/plain": [
              "<matplotlib.axes._subplots.AxesSubplot at 0x7f1f0c82d128>"
            ]
          },
          "metadata": {
            "tags": []
          },
          "execution_count": 7
        },
        {
          "output_type": "display_data",
          "data": {
            "image/png": "[encoded data removed]",
            "text/plain": [
              "<Figure size 432x288 with 1 Axes>"
            ]
          },
          "metadata": {
            "tags": []
          }
        }
      ]
    },
    {
      "cell_type": "code",
      "metadata": {
        "id": "hhFQKvWkX72M",
        "colab_type": "code",
        "outputId": "c08a2d3c-e551-4bbb-aff4-d6d81465d6d1",
        "colab": {
          "base_uri": "https://localhost:8080/",
          "height": 295
        }
      },
      "source": [
        "res = stats.probplot(train['cc_cons'], plot=plt)\n",
        "plt.show()"
      ],
      "execution_count": 0,
      "outputs": [
        {
          "output_type": "display_data",
          "data": {
            "image/png": "[encoded data removed]",
            "text/plain": [
              "<Figure size 432x288 with 1 Axes>"
            ]
          },
          "metadata": {
            "tags": []
          }
        }
      ]
    },
    {
      "cell_type": "code",
      "metadata": {
        "id": "dP_YjBMpabEz",
        "colab_type": "code",
        "colab": {}
      },
      "source": [
        "#train.drop('id',axis=1,inplace=True)"
      ],
      "execution_count": 0,
      "outputs": []
    },
    {
      "cell_type": "code",
      "metadata": {
        "id": "ujFn2VWtZRf6",
        "colab_type": "code",
        "outputId": "388b3a2a-4ff8-450f-ab72-7383fd6d3455",
        "colab": {
          "base_uri": "https://localhost:8080/",
          "height": 674
        }
      },
      "source": [
        "corrmat = train.corr()\n",
        "plt.subplots(figsize=(12,9))\n",
        "sns.heatmap(corrmat, square=True)"
      ],
      "execution_count": 0,
      "outputs": [
        {
          "output_type": "execute_result",
          "data": {
            "text/plain": [
              "<matplotlib.axes._subplots.AxesSubplot at 0x7f1f0c7289e8>"
            ]
          },
          "metadata": {
            "tags": []
          },
          "execution_count": 10
        },
        {
          "output_type": "display_data",
          "data": {
            "image/png": "[encoded data removed]",
            "text/plain": [
              "<Figure size 864x648 with 2 Axes>"
            ]
          },
          "metadata": {
            "tags": []
          }
        }
      ]
    },
    {
      "cell_type": "code",
      "metadata": {
        "id": "pM_5udur47St",
        "colab_type": "code",
        "colab": {}
      },
      "source": [
        "y_train=train['cc_cons']\n",
        "train.drop('cc_cons',axis=1,inplace=True)"
      ],
      "execution_count": 0,
      "outputs": []
    },
    {
      "cell_type": "code",
      "metadata": {
        "id": "pHpUvJKR47Ok",
        "colab_type": "code",
        "colab": {}
      },
      "source": [
        "n_train=train.shape[0]\n",
        "train=pd.concat((train,test_or)).reset_index(drop=True)"
      ],
      "execution_count": 0,
      "outputs": []
    },
    {
      "cell_type": "code",
      "metadata": {
        "id": "yI7IHYD6Assa",
        "colab_type": "code",
        "outputId": "e1637488-ec1d-4728-c1f5-778bb85cf7a6",
        "colab": {
          "base_uri": "https://localhost:8080/",
          "height": 34
        }
      },
      "source": [
        "train.shape"
      ],
      "execution_count": 0,
      "outputs": [
        {
          "output_type": "execute_result",
          "data": {
            "text/plain": [
              "(46887, 43)"
            ]
          },
          "metadata": {
            "tags": []
          },
          "execution_count": 6
        }
      ]
    },
    {
      "cell_type": "code",
      "metadata": {
        "id": "_yKESmTs-I9m",
        "colab_type": "code",
        "colab": {}
      },
      "source": [
        "train.drop('id',axis=1,inplace=True)"
      ],
      "execution_count": 0,
      "outputs": []
    },
    {
      "cell_type": "code",
      "metadata": {
        "id": "Quaw6HREsdjN",
        "colab_type": "code",
        "outputId": "1b14ec33-eb9b-4a69-fe10-aaf5383cb435",
        "colab": {
          "base_uri": "https://localhost:8080/",
          "height": 764
        }
      },
      "source": [
        "train.isnull().sum()"
      ],
      "execution_count": 0,
      "outputs": [
        {
          "output_type": "execute_result",
          "data": {
            "text/plain": [
              "account_type                 0\n",
              "gender                       0\n",
              "age                          0\n",
              "region_code                  0\n",
              "cc_cons_apr                  0\n",
              "dc_cons_apr              27282\n",
              "cc_cons_may                  0\n",
              "dc_cons_may              24714\n",
              "cc_cons_jun                  0\n",
              "dc_cons_jun              30361\n",
              "cc_count_apr              3437\n",
              "cc_count_may              1695\n",
              "cc_count_jun              2224\n",
              "dc_count_apr             27282\n",
              "dc_count_may             24714\n",
              "dc_count_jun             22049\n",
              "card_lim                    12\n",
              "personal_loan_active     43011\n",
              "vehicle_loan_active      45686\n",
              "personal_loan_closed     42745\n",
              "vehicle_loan_closed      44581\n",
              "investment_1             44811\n",
              "investment_2             43522\n",
              "investment_3             44941\n",
              "investment_4             46308\n",
              "debit_amount_apr          2737\n",
              "credit_amount_apr         4767\n",
              "debit_count_apr           2546\n",
              "credit_count_apr          2546\n",
              "max_credit_amount_apr     4767\n",
              "debit_amount_may          3302\n",
              "credit_amount_may         4900\n",
              "credit_count_may          2968\n",
              "debit_count_may           2968\n",
              "max_credit_amount_may     4900\n",
              "debit_amount_jun          3140\n",
              "credit_amount_jun         2206\n",
              "credit_count_jun          2183\n",
              "debit_count_jun           2183\n",
              "max_credit_amount_jun     2206\n",
              "loan_enq                 46032\n",
              "emi_active                   0\n",
              "dtype: int64"
            ]
          },
          "metadata": {
            "tags": []
          },
          "execution_count": 26
        }
      ]
    },
    {
      "cell_type": "code",
      "metadata": {
        "id": "OtAoof6ko2aN",
        "colab_type": "code",
        "outputId": "0f66d0ef-e9ac-44fe-d708-5151ef93e0cc",
        "colab": {
          "base_uri": "https://localhost:8080/",
          "height": 52
        }
      },
      "source": [
        "train['dc_count_jun'].mode()"
      ],
      "execution_count": 0,
      "outputs": [
        {
          "output_type": "execute_result",
          "data": {
            "text/plain": [
              "0    1.0\n",
              "dtype: float64"
            ]
          },
          "metadata": {
            "tags": []
          },
          "execution_count": 10
        }
      ]
    },
    {
      "cell_type": "markdown",
      "metadata": {
        "id": "yVZOYkw-Vvz9",
        "colab_type": "text"
      },
      "source": [
        "Filling Missing Values"
      ]
    },
    {
      "cell_type": "code",
      "metadata": {
        "id": "VRHIyb-vZvWD",
        "colab_type": "code",
        "colab": {}
      },
      "source": [
        "train['dc_cons_apr']=train['dc_cons_apr'].fillna(0)"
      ],
      "execution_count": 0,
      "outputs": []
    },
    {
      "cell_type": "code",
      "metadata": {
        "id": "Xg1flA5kauVK",
        "colab_type": "code",
        "colab": {}
      },
      "source": [
        "train['dc_cons_may']=train['dc_cons_apr'].fillna(0)\n",
        "train['dc_cons_jun']=train['dc_cons_jun'].fillna(0)"
      ],
      "execution_count": 0,
      "outputs": []
    },
    {
      "cell_type": "code",
      "metadata": {
        "id": "n2vMTRKbauSo",
        "colab_type": "code",
        "colab": {}
      },
      "source": [
        "train['cc_count_apr']=train['cc_count_apr'].fillna(0)\n",
        "train['cc_count_may']=train['cc_count_may'].fillna(0)\n",
        "train['cc_count_jun']=train['cc_count_jun'].fillna(0)"
      ],
      "execution_count": 0,
      "outputs": []
    },
    {
      "cell_type": "code",
      "metadata": {
        "id": "S9OZzcbcauOd",
        "colab_type": "code",
        "colab": {}
      },
      "source": [
        "train['dc_count_apr']=train['dc_count_apr'].fillna(train['dc_count_apr'].mode()[0])\n",
        "train['dc_count_may']=train['dc_count_may'].fillna(train['dc_count_may'].mode()[0])\n",
        "train['dc_count_jun']=train['dc_count_jun'].fillna(train['dc_count_jun'].mode()[0])"
      ],
      "execution_count": 0,
      "outputs": []
    },
    {
      "cell_type": "code",
      "metadata": {
        "id": "LwSInU73hmnA",
        "colab_type": "code",
        "colab": {}
      },
      "source": [
        "train['card_lim']=train['card_lim'].fillna(train['card_lim'].mode()[0])"
      ],
      "execution_count": 0,
      "outputs": []
    },
    {
      "cell_type": "code",
      "metadata": {
        "id": "TJvm9xrEiyl3",
        "colab_type": "code",
        "colab": {}
      },
      "source": [
        "#@@@\n",
        "train['personal_loan_active']=train['personal_loan_active'].fillna(0)\n",
        "train['vehicle_loan_active']=train['vehicle_loan_active'].fillna(0)\n",
        "train['personal_loan_closed']=train['personal_loan_closed'].fillna(0)\n",
        "train['vehicle_loan_closed']=train['vehicle_loan_closed'].fillna(0)"
      ],
      "execution_count": 0,
      "outputs": []
    },
    {
      "cell_type": "code",
      "metadata": {
        "id": "7Jxznv5miyjQ",
        "colab_type": "code",
        "colab": {}
      },
      "source": [
        "###\n",
        "train['investment_1']=train['investment_1'].fillna(train['investment_1'].mode()[0])\n",
        "train['investment_2']=train['investment_2'].fillna(train['investment_2'].mode()[0])\n",
        "train['investment_3']=train['investment_3'].fillna(train['investment_3'].mode()[0])\n",
        "train['investment_4']=train['investment_4'].fillna(train['investment_4'].mode()[0])"
      ],
      "execution_count": 0,
      "outputs": []
    },
    {
      "cell_type": "code",
      "metadata": {
        "id": "uB0Bqb-9iyfa",
        "colab_type": "code",
        "colab": {}
      },
      "source": [
        "train['debit_amount_apr']=train['debit_amount_apr'].fillna(train['debit_amount_apr'].mode()[0])\n",
        "train['credit_amount_apr']=train['credit_amount_apr'].fillna(train['credit_amount_apr'].mode()[0])\n",
        "train['debit_count_apr']=train['debit_count_apr'].fillna(train['debit_count_apr'].mode()[0])\n",
        "train['credit_count_apr']=train['credit_count_apr'].fillna(train['credit_count_apr'].mode()[0])\n",
        "train['max_credit_amount_apr']=train['max_credit_amount_apr'].fillna(0)"
      ],
      "execution_count": 0,
      "outputs": []
    },
    {
      "cell_type": "code",
      "metadata": {
        "id": "Fc1Mtwr6iybo",
        "colab_type": "code",
        "colab": {}
      },
      "source": [
        "train['debit_amount_may']=train['debit_amount_may'].fillna(train['debit_amount_may'].mode()[0])\n",
        "train['credit_amount_may']=train['credit_amount_may'].fillna(train['credit_amount_may'].mode()[0])\n",
        "train['debit_count_may']=train['debit_count_may'].fillna(train['debit_count_may'].mode()[0])\n",
        "train['credit_count_may']=train['credit_count_may'].fillna(train['credit_count_may'].mode()[0])\n",
        "train['max_credit_amount_may']=train['max_credit_amount_may'].fillna(0)"
      ],
      "execution_count": 0,
      "outputs": []
    },
    {
      "cell_type": "code",
      "metadata": {
        "id": "55GNbN1SoGOG",
        "colab_type": "code",
        "colab": {}
      },
      "source": [
        "train['debit_amount_jun']=train['debit_amount_jun'].fillna(train['debit_amount_jun'].mode()[0])\n",
        "train['credit_amount_jun']=train['credit_amount_jun'].fillna(train['credit_amount_jun'].mode()[0])\n",
        "train['debit_count_jun']=train['debit_count_jun'].fillna(train['debit_count_jun'].mode()[0])\n",
        "train['credit_count_jun']=train['credit_count_jun'].fillna(train['credit_count_jun'].mode()[0])\n",
        "train['max_credit_amount_jun']=train['max_credit_amount_jun'].fillna(0)"
      ],
      "execution_count": 0,
      "outputs": []
    },
    {
      "cell_type": "code",
      "metadata": {
        "id": "gFXqNariog1Q",
        "colab_type": "code",
        "outputId": "a30f7a4c-8a4f-4a45-a450-54f096ccf8ed",
        "colab": {
          "base_uri": "https://localhost:8080/",
          "height": 34
        }
      },
      "source": [
        "train['loan_enq'].unique()"
      ],
      "execution_count": 0,
      "outputs": [
        {
          "output_type": "execute_result",
          "data": {
            "text/plain": [
              "array([nan, 'Y'], dtype=object)"
            ]
          },
          "metadata": {
            "tags": []
          },
          "execution_count": 17
        }
      ]
    },
    {
      "cell_type": "markdown",
      "metadata": {
        "id": "FPSEaLcVV1xY",
        "colab_type": "text"
      },
      "source": [
        "Feature Engineering"
      ]
    },
    {
      "cell_type": "code",
      "metadata": {
        "id": "duy18GSTogwT",
        "colab_type": "code",
        "colab": {}
      },
      "source": [
        "train['avg_credit_amount']=(train['credit_amount_apr'] +train['credit_amount_may'] + train['credit_amount_jun'])/3\n",
        "train['avg_debit_amount']=(train['debit_amount_apr'] +train['debit_amount_may'] + train['debit_amount_jun'])/3\n",
        "train['avg_max_credit_amount']=(train['max_credit_amount_apr'] +train['max_credit_amount_may'] + train['max_credit_amount_jun'])/3\n"
      ],
      "execution_count": 0,
      "outputs": []
    },
    {
      "cell_type": "code",
      "metadata": {
        "id": "JgV9keLMvowc",
        "colab_type": "code",
        "colab": {}
      },
      "source": [
        "train.drop(['credit_amount_apr','credit_amount_may','credit_amount_jun'], axis=1,inplace=True)\n",
        "train.drop(['debit_amount_apr','debit_amount_may','debit_amount_jun'],axis=1,inplace=True)\n",
        "train.drop(['max_credit_amount_apr','max_credit_amount_may','max_credit_amount_jun'],axis=1,inplace=True)\n"
      ],
      "execution_count": 0,
      "outputs": []
    },
    {
      "cell_type": "code",
      "metadata": {
        "id": "6xWRyF4vLAF1",
        "colab_type": "code",
        "colab": {}
      },
      "source": [
        "train['investment']=train['investment_1']+train['investment_2']+train['investment_3']+train['investment_4']\n",
        "train.drop(['investment_1','investment_2','investment_3','investment_4'],axis=1,inplace=True)"
      ],
      "execution_count": 0,
      "outputs": []
    },
    {
      "cell_type": "code",
      "metadata": {
        "id": "5aFDGSGKUblC",
        "colab_type": "code",
        "colab": {}
      },
      "source": [
        "train['loan_active']=train['personal_loan_active']+train['vehicle_loan_active']\n",
        "train.drop(['personal_loan_active','vehicle_loan_active','personal_loan_closed','vehicle_loan_closed'],axis=1,inplace=True)"
      ],
      "execution_count": 0,
      "outputs": []
    },
    {
      "cell_type": "code",
      "metadata": {
        "id": "F-342RPCfEVO",
        "colab_type": "code",
        "colab": {}
      },
      "source": [
        "train['avg_dc_cons']=(train['dc_cons_apr']+train['dc_cons_may']+train['dc_cons_jun'])/3\n",
        "train.drop(['dc_cons_apr','dc_cons_may','dc_cons_jun'],axis=1,inplace=True)"
      ],
      "execution_count": 0,
      "outputs": []
    },
    {
      "cell_type": "code",
      "metadata": {
        "id": "RznMUAZGsmmc",
        "colab_type": "code",
        "colab": {}
      },
      "source": [
        "train.info()"
      ],
      "execution_count": 0,
      "outputs": []
    },
    {
      "cell_type": "code",
      "metadata": {
        "id": "Kot-Fg_Cq9LE",
        "colab_type": "code",
        "colab": {}
      },
      "source": [
        "train.isnull().sum()"
      ],
      "execution_count": 0,
      "outputs": []
    },
    {
      "cell_type": "code",
      "metadata": {
        "id": "8wV3Q2sigycB",
        "colab_type": "code",
        "colab": {}
      },
      "source": [
        "train.info()"
      ],
      "execution_count": 0,
      "outputs": []
    },
    {
      "cell_type": "code",
      "metadata": {
        "id": "ip__FHXRYhs8",
        "colab_type": "code",
        "colab": {}
      },
      "source": [
        "train.isnull().sum()"
      ],
      "execution_count": 0,
      "outputs": []
    },
    {
      "cell_type": "code",
      "metadata": {
        "id": "oxM3e6Xasc1s",
        "colab_type": "code",
        "outputId": "ddee5b4c-73ec-4876-f471-6cc72ac468ed",
        "colab": {
          "base_uri": "https://localhost:8080/",
          "height": 34
        }
      },
      "source": [
        "train['account_type'].unique()"
      ],
      "execution_count": 0,
      "outputs": [
        {
          "output_type": "execute_result",
          "data": {
            "text/plain": [
              "array(['saving', 'current'], dtype=object)"
            ]
          },
          "metadata": {
            "tags": []
          },
          "execution_count": 60
        }
      ]
    },
    {
      "cell_type": "code",
      "metadata": {
        "id": "5EHThiWUscyR",
        "colab_type": "code",
        "outputId": "15270746-36cf-4f8c-bc08-f8583064d278",
        "colab": {
          "base_uri": "https://localhost:8080/",
          "height": 34
        }
      },
      "source": [
        "train.shape"
      ],
      "execution_count": 0,
      "outputs": [
        {
          "output_type": "execute_result",
          "data": {
            "text/plain": [
              "(46887, 45)"
            ]
          },
          "metadata": {
            "tags": []
          },
          "execution_count": 54
        }
      ]
    },
    {
      "cell_type": "code",
      "metadata": {
        "id": "eozZgjm3q0jf",
        "colab_type": "code",
        "colab": {}
      },
      "source": [
        "#train['loan_enq']=train['loan_enq'].apply(lambda x: 1 if x=='Y' else 0)"
      ],
      "execution_count": 0,
      "outputs": []
    },
    {
      "cell_type": "code",
      "metadata": {
        "id": "xAl_N1ibs3AD",
        "colab_type": "code",
        "colab": {}
      },
      "source": [
        "#encoding categorical values\n",
        "train=pd.get_dummies(train)"
      ],
      "execution_count": 0,
      "outputs": []
    },
    {
      "cell_type": "code",
      "metadata": {
        "id": "NgzN4qWEtHgb",
        "colab_type": "code",
        "outputId": "c29166a4-86e2-4241-af5e-1c7dd4d1e60e",
        "colab": {
          "base_uri": "https://localhost:8080/",
          "height": 34
        }
      },
      "source": [
        "train.shape"
      ],
      "execution_count": 0,
      "outputs": [
        {
          "output_type": "execute_result",
          "data": {
            "text/plain": [
              "(46887, 30)"
            ]
          },
          "metadata": {
            "tags": []
          },
          "execution_count": 31
        }
      ]
    },
    {
      "cell_type": "code",
      "metadata": {
        "id": "TS4C0U079w-3",
        "colab_type": "code",
        "outputId": "30887917-ca6a-405f-891b-633bccee619a",
        "colab": {
          "base_uri": "https://localhost:8080/",
          "height": 694
        }
      },
      "source": [
        "train.isnull().sum()"
      ],
      "execution_count": 0,
      "outputs": [
        {
          "output_type": "execute_result",
          "data": {
            "text/plain": [
              "age                      0\n",
              "region_code              0\n",
              "cc_cons_apr              0\n",
              "dc_cons_apr              0\n",
              "cc_cons_may              0\n",
              "dc_cons_may              0\n",
              "cc_cons_jun              0\n",
              "dc_cons_jun              0\n",
              "cc_count_apr             0\n",
              "cc_count_may             0\n",
              "cc_count_jun             0\n",
              "dc_count_apr             0\n",
              "dc_count_may             0\n",
              "dc_count_jun             0\n",
              "card_lim                 0\n",
              "personal_loan_active     0\n",
              "vehicle_loan_active      0\n",
              "personal_loan_closed     0\n",
              "vehicle_loan_closed      0\n",
              "investment_1             0\n",
              "investment_2             0\n",
              "investment_3             0\n",
              "investment_4             0\n",
              "debit_count_apr          0\n",
              "credit_count_apr         0\n",
              "credit_count_may         0\n",
              "debit_count_may          0\n",
              "credit_count_jun         0\n",
              "debit_count_jun          0\n",
              "emi_active               0\n",
              "avg_credit_amount        0\n",
              "avg_debit_amount         0\n",
              "avg_max_credit_amount    0\n",
              "account_type_current     0\n",
              "account_type_saving      0\n",
              "gender_F                 0\n",
              "gender_M                 0\n",
              "loan_enq_Y               0\n",
              "dtype: int64"
            ]
          },
          "metadata": {
            "tags": []
          },
          "execution_count": 59
        }
      ]
    },
    {
      "cell_type": "code",
      "metadata": {
        "id": "gYwVXwLKV0tF",
        "colab_type": "code",
        "outputId": "42a7efc1-bf94-4be0-84de-b73848a7485c",
        "colab": {
          "base_uri": "https://localhost:8080/",
          "height": 670
        }
      },
      "source": [
        "corrmat = train.corr()\n",
        "plt.subplots(figsize=(12,9))\n",
        "sns.heatmap(corrmat, square=True)"
      ],
      "execution_count": 0,
      "outputs": [
        {
          "output_type": "execute_result",
          "data": {
            "text/plain": [
              "<matplotlib.axes._subplots.AxesSubplot at 0x7f2a6b080b70>"
            ]
          },
          "metadata": {
            "tags": []
          },
          "execution_count": 32
        },
        {
          "output_type": "display_data",
          "data": {
            "image/png": "[encoded data removed]",
            "text/plain": [
              "<Figure size 864x648 with 2 Axes>"
            ]
          },
          "metadata": {
            "tags": []
          }
        }
      ]
    },
    {
      "cell_type": "code",
      "metadata": {
        "id": "thukaglGxrG7",
        "colab_type": "code",
        "colab": {}
      },
      "source": [
        "from sklearn import preprocessing\n",
        "\n",
        "x = train.values #returns a numpy array\n",
        "min_max_scaler = preprocessing.MinMaxScaler()\n",
        "x_scaled = min_max_scaler.fit_transform(x)\n",
        "train= pd.DataFrame(x_scaled)"
      ],
      "execution_count": 0,
      "outputs": []
    },
    {
      "cell_type": "code",
      "metadata": {
        "id": "Apc1msBkuR0V",
        "colab_type": "code",
        "colab": {}
      },
      "source": [
        "\n",
        "X_train=train[:n_train]\n",
        "X_test=train[n_train:]"
      ],
      "execution_count": 0,
      "outputs": []
    },
    {
      "cell_type": "code",
      "metadata": {
        "id": "lcp9BYmaAaZY",
        "colab_type": "code",
        "outputId": "9d67f9b9-8c97-42f6-a6b2-c9444d0672f7",
        "colab": {
          "base_uri": "https://localhost:8080/",
          "height": 34
        }
      },
      "source": [
        "X_train.shape, X_test.shape"
      ],
      "execution_count": 0,
      "outputs": [
        {
          "output_type": "execute_result",
          "data": {
            "text/plain": [
              "((32820, 35), (14067, 35))"
            ]
          },
          "metadata": {
            "tags": []
          },
          "execution_count": 261
        }
      ]
    },
    {
      "cell_type": "code",
      "metadata": {
        "id": "BrI4R6DntQ4l",
        "colab_type": "code",
        "colab": {}
      },
      "source": [
        "from sklearn.linear_model import ElasticNet, Lasso,  BayesianRidge, LassoLarsIC\n",
        "from sklearn.ensemble import RandomForestRegressor,  GradientBoostingRegressor\n",
        "from sklearn.kernel_ridge import KernelRidge\n",
        "from sklearn.pipeline import make_pipeline\n",
        "from sklearn.preprocessing import RobustScaler\n",
        "from sklearn.base import BaseEstimator, TransformerMixin, RegressorMixin, clone\n",
        "from sklearn.model_selection import KFold, cross_val_score, train_test_split\n",
        "from sklearn.metrics import mean_squared_error\n",
        "import xgboost as xgb\n",
        "import lightgbm as lgb\n",
        "from sklearn import metrics\n",
        "from sklearn.linear_model import Ridge\n",
        "from yellowbrick.regressor import PredictionError, ResidualsPlot"
      ],
      "execution_count": 0,
      "outputs": []
    },
    {
      "cell_type": "code",
      "metadata": {
        "id": "7xV--u8vukng",
        "colab_type": "code",
        "colab": {}
      },
      "source": [
        "X_train, X_val, y_train, y_val = train_test_split(X_train, y_train, test_size=0.25, random_state=42)"
      ],
      "execution_count": 0,
      "outputs": []
    },
    {
      "cell_type": "code",
      "metadata": {
        "id": "w7SMafQYwGQh",
        "colab_type": "code",
        "colab": {}
      },
      "source": [
        "n_folds = 5\n",
        "\n",
        "def rmsle_cv(model, features, labels):\n",
        "    kf = KFold(n_folds, shuffle=True, random_state=42).get_n_splits(features) # Shuffle the data.\n",
        "    rmse= np.sqrt(-cross_val_score(model, features, labels, scoring=\"neg_mean_squared_error\", cv = kf))\n",
        "    return(rmse.mean())"
      ],
      "execution_count": 0,
      "outputs": []
    },
    {
      "cell_type": "code",
      "metadata": {
        "id": "-AqSKgZfvhRR",
        "colab_type": "code",
        "outputId": "ec3d5be1-a4ed-4c80-fb21-4b96c5bb1a57",
        "colab": {
          "base_uri": "https://localhost:8080/",
          "height": 89
        }
      },
      "source": [
        "rid_reg = Ridge()\n",
        "rid_reg.fit(X_train, y_train)\n",
        "y_pred = rid_reg.predict(X_val)\n",
        "rmsle_cv(rid_reg, X_val, y_val)"
      ],
      "execution_count": 0,
      "outputs": [
        {
          "output_type": "stream",
          "text": [
            "/usr/local/lib/python3.6/dist-packages/sklearn/linear_model/ridge.py:147: LinAlgWarning: Ill-conditioned matrix (rcond=3.86622e-17): result may not be accurate.\n",
            "  overwrite_a=True).T\n"
          ],
          "name": "stderr"
        },
        {
          "output_type": "execute_result",
          "data": {
            "text/plain": [
              "1.2073742132788543"
            ]
          },
          "metadata": {
            "tags": []
          },
          "execution_count": 28
        }
      ]
    },
    {
      "cell_type": "code",
      "metadata": {
        "id": "TPthFBnAyOoL",
        "colab_type": "code",
        "outputId": "158acc2a-cdd3-488f-aa7b-f0729e871511",
        "colab": {
          "base_uri": "https://localhost:8080/",
          "height": 34
        }
      },
      "source": [
        "y_pred[0]"
      ],
      "execution_count": 0,
      "outputs": [
        {
          "output_type": "execute_result",
          "data": {
            "text/plain": [
              "9.193975184724472"
            ]
          },
          "metadata": {
            "tags": []
          },
          "execution_count": 79
        }
      ]
    },
    {
      "cell_type": "code",
      "metadata": {
        "id": "FB3E9s_Cx27c",
        "colab_type": "code",
        "outputId": "3fe5eb8c-88de-4235-bbc8-fac0dde74704",
        "colab": {
          "base_uri": "https://localhost:8080/",
          "height": 34
        }
      },
      "source": [
        "metrics.mean_squared_log_error(y_pred,y_val)"
      ],
      "execution_count": 0,
      "outputs": [
        {
          "output_type": "execute_result",
          "data": {
            "text/plain": [
              "0.020956113011424193"
            ]
          },
          "metadata": {
            "tags": []
          },
          "execution_count": 67
        }
      ]
    },
    {
      "cell_type": "code",
      "metadata": {
        "id": "MIuT50HGvhM2",
        "colab_type": "code",
        "colab": {}
      },
      "source": [
        "GBoost = GradientBoostingRegressor(n_estimators=1000, learning_rate=0.01,\n",
        "                                   max_depth=5, max_features='sqrt',\n",
        "                                   min_samples_leaf=15, min_samples_split=200, \n",
        "                                    random_state =5,\n",
        "                                  alpha = 0.01, subsample=0.8, warm_start=True)"
      ],
      "execution_count": 0,
      "outputs": []
    },
    {
      "cell_type": "code",
      "metadata": {
        "id": "DRomrS3bvhIn",
        "colab_type": "code",
        "outputId": "85af89d5-c4c6-4779-8391-41d65296e143",
        "colab": {
          "base_uri": "https://localhost:8080/",
          "height": 173
        }
      },
      "source": [
        "GBoost.fit(X_train,y_train)"
      ],
      "execution_count": 0,
      "outputs": [
        {
          "output_type": "execute_result",
          "data": {
            "text/plain": [
              "GradientBoostingRegressor(alpha=0.01, criterion='friedman_mse', init=None,\n",
              "                          learning_rate=0.01, loss='ls', max_depth=5,\n",
              "                          max_features='sqrt', max_leaf_nodes=None,\n",
              "                          min_impurity_decrease=0.0, min_impurity_split=None,\n",
              "                          min_samples_leaf=15, min_samples_split=200,\n",
              "                          min_weight_fraction_leaf=0.0, n_estimators=1000,\n",
              "                          n_iter_no_change=None, presort='auto', random_state=5,\n",
              "                          subsample=0.8, tol=0.0001, validation_fraction=0.1,\n",
              "                          verbose=0, warm_start=True)"
            ]
          },
          "metadata": {
            "tags": []
          },
          "execution_count": 36
        }
      ]
    },
    {
      "cell_type": "code",
      "metadata": {
        "id": "fN3bBY4ozEM5",
        "colab_type": "code",
        "colab": {}
      },
      "source": [
        "y_pred_GBoost=GBoost.predict(X_val)"
      ],
      "execution_count": 0,
      "outputs": []
    },
    {
      "cell_type": "code",
      "metadata": {
        "id": "tnCZcGctDHUt",
        "colab_type": "code",
        "outputId": "f919b9fa-cd1a-462a-de8f-3d571edfb459",
        "colab": {
          "base_uri": "https://localhost:8080/",
          "height": 34
        }
      },
      "source": [
        "import math\n",
        "\n",
        "math.sqrt(metrics.mean_squared_log_error(y_pred_GBoost,y_val))"
      ],
      "execution_count": 0,
      "outputs": [
        {
          "output_type": "execute_result",
          "data": {
            "text/plain": [
              "0.13633295294100772"
            ]
          },
          "metadata": {
            "tags": []
          },
          "execution_count": 40
        }
      ]
    },
    {
      "cell_type": "code",
      "metadata": {
        "id": "GcKMMN1szirx",
        "colab_type": "code",
        "colab": {}
      },
      "source": [
        "model_xgb = xgb.XGBRegressor(colsample_bytree=0.6603, gamma=0.01, \n",
        "                             learning_rate=0.01, max_depth=3, \n",
        "                             min_child_weight=1, n_estimators=1000,\n",
        "                             reg_alpha=0.01640, reg_lambda=0.01571,\n",
        "                             subsample=0.8, silent=1,\n",
        "                             random_state =7, nthread = -1,n_jobs=-1)\n"
      ],
      "execution_count": 0,
      "outputs": []
    },
    {
      "cell_type": "code",
      "metadata": {
        "id": "N8MocUzd0LRt",
        "colab_type": "code",
        "outputId": "fa568cd1-8b09-49da-f661-8087223b43f7",
        "colab": {
          "base_uri": "https://localhost:8080/",
          "height": 193
        }
      },
      "source": [
        "model_xgb.fit(X_train,y_train)"
      ],
      "execution_count": 0,
      "outputs": [
        {
          "output_type": "stream",
          "text": [
            "/usr/local/lib/python3.6/dist-packages/xgboost/core.py:587: FutureWarning: Series.base is deprecated and will be removed in a future version\n",
            "  if getattr(data, 'base', None) is not None and \\\n"
          ],
          "name": "stderr"
        },
        {
          "output_type": "execute_result",
          "data": {
            "text/plain": [
              "XGBRegressor(base_score=0.5, booster='gbtree', colsample_bylevel=1,\n",
              "             colsample_bynode=1, colsample_bytree=0.6603, gamma=0.01,\n",
              "             importance_type='gain', learning_rate=0.01, max_delta_step=0,\n",
              "             max_depth=3, min_child_weight=1, missing=None, n_estimators=1000,\n",
              "             n_jobs=-1, nthread=-1, objective='reg:linear', random_state=7,\n",
              "             reg_alpha=0.0164, reg_lambda=0.01571, scale_pos_weight=1,\n",
              "             seed=None, silent=1, subsample=0.8, verbosity=1)"
            ]
          },
          "metadata": {
            "tags": []
          },
          "execution_count": 108
        }
      ]
    },
    {
      "cell_type": "code",
      "metadata": {
        "id": "o1FoAOg91hiT",
        "colab_type": "code",
        "colab": {}
      },
      "source": [
        "y_pred_model_xgb=model_xgb.predict(X_val)"
      ],
      "execution_count": 0,
      "outputs": []
    },
    {
      "cell_type": "code",
      "metadata": {
        "id": "8xAWyTkn2Dyj",
        "colab_type": "code",
        "colab": {}
      },
      "source": [
        "acc=metrics.mean_squared_log_error(y_pred_model_xgb,y_val)"
      ],
      "execution_count": 0,
      "outputs": []
    },
    {
      "cell_type": "code",
      "metadata": {
        "id": "q0A6COab3YOH",
        "colab_type": "code",
        "outputId": "2ecf1d86-9f4d-4ba4-99e3-260f117cbe5f",
        "colab": {
          "base_uri": "https://localhost:8080/",
          "height": 34
        }
      },
      "source": [
        "math.sqrt(acc)"
      ],
      "execution_count": 0,
      "outputs": [
        {
          "output_type": "execute_result",
          "data": {
            "text/plain": [
              "0.1413330798923979"
            ]
          },
          "metadata": {
            "tags": []
          },
          "execution_count": 111
        }
      ]
    },
    {
      "cell_type": "code",
      "metadata": {
        "id": "U-oH66WpASoM",
        "colab_type": "code",
        "colab": {}
      },
      "source": [
        "from sklearn.tree import DecisionTreeRegressor\n",
        "tree_reg = DecisionTreeRegressor(criterion='friedman_mse', max_depth=2, min_samples_split=2)"
      ],
      "execution_count": 0,
      "outputs": []
    },
    {
      "cell_type": "code",
      "metadata": {
        "id": "XBIaGD-CTZdx",
        "colab_type": "code",
        "outputId": "fe250ec0-62c3-4a5a-f9b6-967adaea628e",
        "colab": {
          "base_uri": "https://localhost:8080/",
          "height": 104
        }
      },
      "source": [
        "tree_reg.fit(X_train,y_train)"
      ],
      "execution_count": 0,
      "outputs": [
        {
          "output_type": "execute_result",
          "data": {
            "text/plain": [
              "DecisionTreeRegressor(criterion='friedman_mse', max_depth=2, max_features=None,\n",
              "                      max_leaf_nodes=None, min_impurity_decrease=0.0,\n",
              "                      min_impurity_split=None, min_samples_leaf=1,\n",
              "                      min_samples_split=2, min_weight_fraction_leaf=0.0,\n",
              "                      presort=False, random_state=None, splitter='best')"
            ]
          },
          "metadata": {
            "tags": []
          },
          "execution_count": 277
        }
      ]
    },
    {
      "cell_type": "code",
      "metadata": {
        "id": "SOwErRw8Tlvn",
        "colab_type": "code",
        "colab": {}
      },
      "source": [
        "y_pred_tree_reg=tree_reg.predict(X_val)\n"
      ],
      "execution_count": 0,
      "outputs": []
    },
    {
      "cell_type": "code",
      "metadata": {
        "id": "oeW3xEuXTuZM",
        "colab_type": "code",
        "outputId": "8182f502-41d0-49d7-da5b-68d352fa1a74",
        "colab": {
          "base_uri": "https://localhost:8080/",
          "height": 34
        }
      },
      "source": [
        "math.sqrt(metrics.mean_squared_log_error(y_pred_tree_reg,y_val))"
      ],
      "execution_count": 0,
      "outputs": [
        {
          "output_type": "execute_result",
          "data": {
            "text/plain": [
              "0.14831835244258032"
            ]
          },
          "metadata": {
            "tags": []
          },
          "execution_count": 279
        }
      ]
    },
    {
      "cell_type": "code",
      "metadata": {
        "id": "-5zbgAkLWjrF",
        "colab_type": "code",
        "colab": {}
      },
      "source": [
        "model_lgb = lgb.LGBMRegressor(objective='regression',num_leaves=5,\n",
        "                              learning_rate=0.01, n_estimators=420,\n",
        "                              max_bin = 55, bagging_fraction = 0.7,\n",
        "                              bagging_freq = 5, feature_fraction = 0.3319,\n",
        "                              feature_fraction_seed=9, bagging_seed=9,\n",
        "                              min_data_in_leaf =5, min_sum_hessian_in_leaf = 11,\n",
        "                              reg_lambda=0.001,\n",
        "                               reg_alpha=0.001, min_child_weight=3 )"
      ],
      "execution_count": 0,
      "outputs": []
    },
    {
      "cell_type": "code",
      "metadata": {
        "id": "v_eSj7iGWlDj",
        "colab_type": "code",
        "outputId": "9521b78e-6126-4efb-a57b-852528e6ad65",
        "colab": {
          "base_uri": "https://localhost:8080/",
          "height": 191
        }
      },
      "source": [
        "model_lgb.fit(X_train,y_train)"
      ],
      "execution_count": 0,
      "outputs": [
        {
          "output_type": "execute_result",
          "data": {
            "text/plain": [
              "LGBMRegressor(bagging_fraction=0.7, bagging_freq=5, bagging_seed=9,\n",
              "              boosting_type='gbdt', class_weight=None, colsample_bytree=1.0,\n",
              "              feature_fraction=0.3319, feature_fraction_seed=9,\n",
              "              importance_type='split', learning_rate=0.01, max_bin=55,\n",
              "              max_depth=-1, min_child_samples=20, min_child_weight=3,\n",
              "              min_data_in_leaf=5, min_split_gain=0.0,\n",
              "              min_sum_hessian_in_leaf=11, n_estimators=420, n_jobs=-1,\n",
              "              num_leaves=5, objective='regression', random_state=None,\n",
              "              reg_alpha=0.001, reg_lambda=0.001, silent=True, subsample=1.0,\n",
              "              subsample_for_bin=200000, subsample_freq=0)"
            ]
          },
          "metadata": {
            "tags": []
          },
          "execution_count": 133
        }
      ]
    },
    {
      "cell_type": "code",
      "metadata": {
        "id": "XFRmz86yWsJH",
        "colab_type": "code",
        "colab": {}
      },
      "source": [
        "y_pred_model_lgb=model_lgb.predict(X_val)"
      ],
      "execution_count": 0,
      "outputs": []
    },
    {
      "cell_type": "code",
      "metadata": {
        "id": "OCECUzwsXJ0k",
        "colab_type": "code",
        "outputId": "a1de03ca-6081-4db3-f6f2-49590814cd36",
        "colab": {
          "base_uri": "https://localhost:8080/",
          "height": 34
        }
      },
      "source": [
        "math.sqrt(metrics.mean_squared_log_error(y_pred_model_lgb,y_val))"
      ],
      "execution_count": 0,
      "outputs": [
        {
          "output_type": "execute_result",
          "data": {
            "text/plain": [
              "0.14245681787533035"
            ]
          },
          "metadata": {
            "tags": []
          },
          "execution_count": 135
        }
      ]
    },
    {
      "cell_type": "code",
      "metadata": {
        "id": "2P9GN9yLNab4",
        "colab_type": "code",
        "colab": {}
      },
      "source": [
        "rand_reg=RandomForestRegressor(max_depth=3, random_state=0 ,n_estimators=200, oob_score=True,\n",
        "                              min_samples_leaf=5)"
      ],
      "execution_count": 0,
      "outputs": []
    },
    {
      "cell_type": "code",
      "metadata": {
        "id": "OGD68zmiNiKj",
        "colab_type": "code",
        "outputId": "a968d915-6578-4c09-d460-705bda122f91",
        "colab": {
          "base_uri": "https://localhost:8080/",
          "height": 139
        }
      },
      "source": [
        "rand_reg.fit(X_train,y_train)"
      ],
      "execution_count": 0,
      "outputs": [
        {
          "output_type": "execute_result",
          "data": {
            "text/plain": [
              "RandomForestRegressor(bootstrap=True, criterion='mse', max_depth=3,\n",
              "                      max_features='auto', max_leaf_nodes=None,\n",
              "                      min_impurity_decrease=0.0, min_impurity_split=None,\n",
              "                      min_samples_leaf=5, min_samples_split=2,\n",
              "                      min_weight_fraction_leaf=0.0, n_estimators=200,\n",
              "                      n_jobs=None, oob_score=True, random_state=0, verbose=0,\n",
              "                      warm_start=False)"
            ]
          },
          "metadata": {
            "tags": []
          },
          "execution_count": 305
        }
      ]
    },
    {
      "cell_type": "code",
      "metadata": {
        "id": "4PEroCl5NoYe",
        "colab_type": "code",
        "colab": {}
      },
      "source": [
        "y_pred_rand_reg=rand_reg.predict(X_val)"
      ],
      "execution_count": 0,
      "outputs": []
    },
    {
      "cell_type": "code",
      "metadata": {
        "id": "w0VZKAyhNwyT",
        "colab_type": "code",
        "outputId": "fd2fc0f4-cf1a-4a8f-dbcd-431b1d46906f",
        "colab": {
          "base_uri": "https://localhost:8080/",
          "height": 34
        }
      },
      "source": [
        "math.sqrt(metrics.mean_squared_log_error(y_pred_rand_reg,y_val))"
      ],
      "execution_count": 0,
      "outputs": [
        {
          "output_type": "execute_result",
          "data": {
            "text/plain": [
              "0.14479407825805882"
            ]
          },
          "metadata": {
            "tags": []
          },
          "execution_count": 307
        }
      ]
    },
    {
      "cell_type": "code",
      "metadata": {
        "id": "dlZW_paVP6yY",
        "colab_type": "code",
        "colab": {}
      },
      "source": [
        "from sklearn.linear_model import ElasticNet\n",
        "from sklearn.svm import SVR\n",
        "from sklearn.tree import DecisionTreeRegressor\n",
        "from sklearn.linear_model import Lasso, Ridge"
      ],
      "execution_count": 0,
      "outputs": []
    },
    {
      "cell_type": "code",
      "metadata": {
        "id": "ulz4sKhHOGuv",
        "colab_type": "code",
        "colab": {}
      },
      "source": [
        "elastic_net = ElasticNet(alpha=0.1, l1_ratio=0.9, max_iter=3000)\n",
        "svr = SVR(C=1, kernel='linear')\n",
        "tree_reg = DecisionTreeRegressor(criterion='friedman_mse', max_depth=None, min_samples_split=3)\n",
        "ridge_reg = Ridge(alpha=0.1)\n"
      ],
      "execution_count": 0,
      "outputs": []
    },
    {
      "cell_type": "code",
      "metadata": {
        "id": "YLQrTs6dQwDE",
        "colab_type": "code",
        "colab": {}
      },
      "source": [
        "from mlxtend.regressor import StackingRegressor"
      ],
      "execution_count": 0,
      "outputs": []
    },
    {
      "cell_type": "code",
      "metadata": {
        "id": "B-3Mq4wfQv-E",
        "colab_type": "code",
        "colab": {}
      },
      "source": [
        "ensemble_model = StackingRegressor(regressors=[ridge_reg, GBoost, model_xgb], meta_regressor=model_lgb,\n",
        "                                  use_features_in_secondary=True)"
      ],
      "execution_count": 0,
      "outputs": []
    },
    {
      "cell_type": "code",
      "metadata": {
        "id": "ESAs_Z7RRkKX",
        "colab_type": "code",
        "outputId": "a650f21e-c517-4657-a18d-bb1935ae319f",
        "colab": {
          "base_uri": "https://localhost:8080/",
          "height": 575
        }
      },
      "source": [
        "ensemble_model.fit(X_train, y_train)\n"
      ],
      "execution_count": 0,
      "outputs": [
        {
          "output_type": "stream",
          "text": [
            "/usr/local/lib/python3.6/dist-packages/sklearn/linear_model/ridge.py:147: LinAlgWarning: Ill-conditioned matrix (rcond=3.86534e-18): result may not be accurate.\n",
            "  overwrite_a=True).T\n",
            "/usr/local/lib/python3.6/dist-packages/xgboost/core.py:587: FutureWarning: Series.base is deprecated and will be removed in a future version\n",
            "  if getattr(data, 'base', None) is not None and \\\n"
          ],
          "name": "stderr"
        },
        {
          "output_type": "execute_result",
          "data": {
            "text/plain": [
              "StackingRegressor(meta_regressor=LGBMRegressor(bagging_fraction=0.7,\n",
              "                                               bagging_freq=5, bagging_seed=9,\n",
              "                                               boosting_type='gbdt',\n",
              "                                               class_weight=None,\n",
              "                                               colsample_bytree=1.0,\n",
              "                                               feature_fraction=0.3319,\n",
              "                                               feature_fraction_seed=9,\n",
              "                                               importance_type='split',\n",
              "                                               learning_rate=0.01, max_bin=55,\n",
              "                                               max_depth=-1,\n",
              "                                               min_child_samples=20,\n",
              "                                               min_child_weight=3,\n",
              "                                               min_data_in_leaf=5,\n",
              "                                               min_split_gain=0.0...\n",
              "                                           importance_type='gain',\n",
              "                                           learning_rate=0.01, max_delta_step=0,\n",
              "                                           max_depth=3, min_child_weight=1,\n",
              "                                           missing=None, n_estimators=1000,\n",
              "                                           n_jobs=-1, nthread=-1,\n",
              "                                           objective='reg:linear',\n",
              "                                           random_state=7, reg_alpha=0.0164,\n",
              "                                           reg_lambda=0.01571,\n",
              "                                           scale_pos_weight=1, seed=None,\n",
              "                                           silent=1, subsample=0.8,\n",
              "                                           verbosity=1)],\n",
              "                  store_train_meta_features=False,\n",
              "                  use_features_in_secondary=True, verbose=0)"
            ]
          },
          "metadata": {
            "tags": []
          },
          "execution_count": 140
        }
      ]
    },
    {
      "cell_type": "code",
      "metadata": {
        "id": "M_0jDwUoRtau",
        "colab_type": "code",
        "colab": {}
      },
      "source": [
        "y_pred_ensemble_model=ensemble_model.predict(X_val)"
      ],
      "execution_count": 0,
      "outputs": []
    },
    {
      "cell_type": "code",
      "metadata": {
        "id": "TenMO9PHR29Y",
        "colab_type": "code",
        "outputId": "c9f6a64e-ba23-4771-b8b6-b89bb32da515",
        "colab": {
          "base_uri": "https://localhost:8080/",
          "height": 34
        }
      },
      "source": [
        "math.sqrt(metrics.mean_squared_log_error(y_pred_ensemble_model,y_val))"
      ],
      "execution_count": 0,
      "outputs": [
        {
          "output_type": "execute_result",
          "data": {
            "text/plain": [
              "0.14127017627287405"
            ]
          },
          "metadata": {
            "tags": []
          },
          "execution_count": 142
        }
      ]
    },
    {
      "cell_type": "code",
      "metadata": {
        "id": "0d6HaOGI3o2h",
        "colab_type": "code",
        "colab": {}
      },
      "source": [
        "output=GBoost.predict(X_test)"
      ],
      "execution_count": 0,
      "outputs": []
    },
    {
      "cell_type": "code",
      "metadata": {
        "id": "GRmopKRG4VAf",
        "colab_type": "code",
        "colab": {}
      },
      "source": [
        "output=np.expm1(output)"
      ],
      "execution_count": 0,
      "outputs": []
    },
    {
      "cell_type": "code",
      "metadata": {
        "id": "aYnnEC71AG4R",
        "colab_type": "code",
        "outputId": "96158086-8186-49d2-b335-b4255d6c2ee2",
        "colab": {
          "base_uri": "https://localhost:8080/",
          "height": 34
        }
      },
      "source": [
        "test_or.shape, output.shape"
      ],
      "execution_count": 0,
      "outputs": [
        {
          "output_type": "execute_result",
          "data": {
            "text/plain": [
              "((14067, 43), (14067,))"
            ]
          },
          "metadata": {
            "tags": []
          },
          "execution_count": 45
        }
      ]
    },
    {
      "cell_type": "code",
      "metadata": {
        "id": "aIO0EMXw7HIq",
        "colab_type": "code",
        "colab": {}
      },
      "source": [
        "result=pd.DataFrame()\n",
        "result['id']=test_or['id']\n",
        "result['cc_cons']=output"
      ],
      "execution_count": 0,
      "outputs": []
    },
    {
      "cell_type": "code",
      "metadata": {
        "id": "kIxRgvzV7csi",
        "colab_type": "code",
        "colab": {}
      },
      "source": [
        "result.to_csv('Am_submission5.csv',index =False)"
      ],
      "execution_count": 0,
      "outputs": []
    },
    {
      "cell_type": "code",
      "metadata": {
        "id": "-YE_YaA8DlKm",
        "colab_type": "code",
        "colab": {}
      },
      "source": [
        ""
      ],
      "execution_count": 0,
      "outputs": []
    }
  ]
}